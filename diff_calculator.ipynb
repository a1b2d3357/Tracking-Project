{
 "cells": [
  {
   "cell_type": "code",
   "execution_count": 1,
   "metadata": {},
   "outputs": [
    {
     "name": "stderr",
     "output_type": "stream",
     "text": [
      "/tmp/ipykernel_9765/314147691.py:2: DeprecationWarning: \n",
      "Pyarrow will become a required dependency of pandas in the next major release of pandas (pandas 3.0),\n",
      "(to allow more performant data types, such as the Arrow string type, and better interoperability with other libraries)\n",
      "but was not found to be installed on your system.\n",
      "If this would cause problems for you,\n",
      "please provide us feedback at https://github.com/pandas-dev/pandas/issues/54466\n",
      "        \n",
      "  import pandas as pd\n"
     ]
    }
   ],
   "source": [
    "import regex as re\n",
    "import pandas as pd\n",
    "import numpy as np"
   ]
  },
  {
   "cell_type": "markdown",
   "metadata": {},
   "source": [
    "### Loading Base Code"
   ]
  },
  {
   "cell_type": "code",
   "execution_count": 16,
   "metadata": {},
   "outputs": [],
   "source": [
    "def readCode(file_name):\n",
    "    base_code = \"\"\n",
    "    with open (file_name,'r') as f:\n",
    "        for line in f:\n",
    "            base_code+=line\n",
    "    return base_code"
   ]
  },
  {
   "cell_type": "markdown",
   "metadata": {},
   "source": [
    "### Loading and Cleaning pixel code"
   ]
  },
  {
   "cell_type": "code",
   "execution_count": 15,
   "metadata": {},
   "outputs": [],
   "source": [
    "def extractConfigurationCode(file_name):\n",
    "    pixel_code = \"\"\n",
    "\n",
    "    with open (file_name,'r') as f:\n",
    "        for line in f:\n",
    "            pixel_code+=line\n",
    "    configuration = \"fbq.registerPlugin\" + (pixel_code.split('fbq.registerPlugin')[1].split('/*')[0])\n",
    "    return configuration"
   ]
  },
  {
   "cell_type": "code",
   "execution_count": 24,
   "metadata": {},
   "outputs": [
    {
     "name": "stdout",
     "output_type": "stream",
     "text": [
      "Differences saved to diff_successive.html\n",
      "Added parts:\n",
      "instance.optIn(\"1264059003707256\", \"AutomaticMatchingForPartnerIntegrations\", true);instance.configLoaded(\"1264059003707256\"); }});\n",
      "\n",
      "Deleted parts:\n",
      "instance.optIn(\"1264059003707256\", \"AutomaticMatchingForPartnerIntegrations\", true);\n",
      "config.set(null, \"batching\", {\"batchWaitTimeMs\":501,\"maxBatchSize\":10});\n",
      "config.set(null, \"microdata\", {\"waitTimeMs\":500});\n",
      "config.set(\"1264059003707256\", \"prohibitedSources\", {\"prohibitedSources\":[{\"domain\":\"41ddbaef2bda3557f4cd1c64698071ceb398dd3efbd022c3b06ab5622d22b014\"},{\"domain\":\"1b895868bf7cb1d2a9c94f7c7fd3309af42c3f79f3ab6c29738933e7a0fdb32f\"},{\"domain\":\"0e88b94c8911bee47cf8b9a3fb14719b1cbac664fce7e754e54520f0250251c0\"},{\"domain\":\"6eba6edf984bf767ab88553aed11872a8842cc576daee425e12fb16f6722ad06\"},{\"domain\":\"66c929d0906871d680ffe0b914f1ff7cf407d73f355a5042f23818c440342031\"},{\"domain\":\"b5758efaa0de66e3065f5b8db41230035b312ceeb6ef15f0e1090c05beeb38cd\"},{\"domain\":\"b7db5ac8a0aa3fc0a915776b6426880451b543576ca30fd4733379716488fed0\"}]});\n",
      "fbq.loadPlugin(\"prohibitedsources\");\n",
      "instance.optIn(\"1264059003707256\", \"ProhibitedSources\", true);\n",
      "fbq.loadPlugin(\"openbridgerollout\");\n",
      "instance.optIn(\"1264059003707256\", \"OpenBridge\", true);\n",
      "config.set(\"1264059003707256\", \"unwantedData\", {\"blacklisted_keys\":{\"_removed_\":{\"cd\":[],\"url\":[\"firstName\",\"lastName\",\"ssn\"]},\"PageView\":{\"cd\":[],\"url\":[\"pcpLastName\",\"lastName\",\"dateOfBirth\",\"appointmentLastName\",\"password\",\"mi_first_name\",\"ssn\",\"pcpFirstName\"]},\"PixelInitialized\":{\"cd\":[],\"url\":[\"firstName\",\"pcpLastName\",\"dateOfBirth\",\"appointmentLastName\",\"lastName\",\"ssn\",\"mi_first_name\"]}},\"sensitive_keys\":{\"_removed_\":{\"cd\":[],\"url\":[\"5cd96c4cedb15c30c62cdd9f0c9fc7411cbf1c0e20e9c9c9b621f6deca972ef9\",\"fdca61beed8a802d9e89df92185e200994238bf77a1aaf8444ddd31dd6cc9ba7\"]},\"SignUp\":{\"cd\":[],\"url\":[\"f3bd3fad84cfeadf5de82d87c0ffa6a5d4b6bb84cf552ee3ead4cbe0076fc66d\",\"a4438158f9b683fd17f0dc8d2ef13d31518a368b052b35dde0a34557c6b4263e\",\"3cb8201e7ff1e7777446032ef1bf4338535aadbabe464c15411cdce8c2317590\",\"8e35c2cd3bf6641bdb0e2050b76932cbb2e6034a0ddacc1d9bea82a6ba57f7cf\",\"8a8decaffbb7c6cfc1c7ccba2fbb8d3ca6e174986920aefb7700dfc9dae5aa35\",\"f284a6ede1e55f8f5e3867eba8c2a87b1d098390dfb54a0bb855d70f3b5b3b24\"]},\"AddToCart\":{\"cd\":[],\"url\":[\"8a8decaffbb7c6cfc1c7ccba2fbb8d3ca6e174986920aefb7700dfc9dae5aa35\",\"80ab18e54e146800f8f632d4c98aaf8a849bfab9d57ebc81926aac1ce08d45ec\",\"b1a6dea243d2ec2499982855a619725b5e6c5d86689f6b2b2434919cf52d6e1f\",\"241d10a627405346942f91493bd86df2bc7959f147cc25e8b090798ea3d70589\",\"a4438158f9b683fd17f0dc8d2ef13d31518a368b052b35dde0a34557c6b4263e\",\"0eecb504a3559da73b92dbbeeb915f5d9f2f456863ca3799274c1eb43fba59e2\",\"c6202785340cd8298157f89a2843a28f1933b44aa1f0e9743aa06f901f08336c\",\"8e35c2cd3bf6641bdb0e2050b76932cbb2e6034a0ddacc1d9bea82a6ba57f7cf\"]},\"PageView\":{\"cd\":[],\"url\":[\"f591d5baa65f424ec5165100a4e5a644dbbfddbfda261b7228906f35597b058f\",\"0aefed447bbd115fd21252879ad29636c0c76900637780bce67d31e6f4f2b757\",\"b17c62e1011956adb2c823f7828572f266221e698b938cacc49458754bd10d8f\",\"8a8decaffbb7c6cfc1c7ccba2fbb8d3ca6e174986920aefb7700dfc9dae5aa35\",\"cb9470b9b15c46b361631e93219abbc30b49eb405b1982aad6fc7681688d5374\",\"80ab18e54e146800f8f632d4c98aaf8a849bfab9d57ebc81926aac1ce08d45ec\",\"8e9492cc47043af9412e0c8554d08a0ca3b3db2a967e11f9d7c8302376b6b406\",\"edb2cd3b74c999af70f0b7054990f2072dc6e10a847af6ed05954b8994b730fe\"]},\"ViewContent\":{\"cd\":[],\"url\":[\"0eecb504a3559da73b92dbbeeb915f5d9f2f456863ca3799274c1eb43fba59e2\",\"8a8decaffbb7c6cfc1c7ccba2fbb8d3ca6e174986920aefb7700dfc9dae5aa35\",\"8e35c2cd3bf6641bdb0e2050b76932cbb2e6034a0ddacc1d9bea82a6ba57f7cf\",\"a84b7efc8bf8b11295840605f4d76e31f04f128e59509d9be0c152b51f8b96ee\",\"f591d5baa65f424ec5165100a4e5a644dbbfddbfda261b7228906f35597b058f\",\"148de9c5a7a44d19e56cd9ae1a554bf67847afb0c58f6e12fa29ac7ddfca9940\",\"cfb5d6174058714d482be945e74825e6b24503e6fb41397312c9a1ef72e3fc8e\",\"c00b6f57554edd433290fd6cbc9f71cce4f9bbaf30f8e1a0e3a13538296733b8\"]},\"PixelInitialized\":{\"cd\":[],\"url\":[\"8a8decaffbb7c6cfc1c7ccba2fbb8d3ca6e174986920aefb7700dfc9dae5aa35\",\"65323756303f40f4df84863f0d7c28804364c8b46d9a4d623444768488bcfa4a\",\"0aefed447bbd115fd21252879ad29636c0c76900637780bce67d31e6f4f2b757\",\"8e9492cc47043af9412e0c8554d08a0ca3b3db2a967e11f9d7c8302376b6b406\",\"fdca61beed8a802d9e89df92185e200994238bf77a1aaf8444ddd31dd6cc9ba7\",\"5cd96c4cedb15c30c62cdd9f0c9fc7411cbf1c0e20e9c9c9b621f6deca972ef9\",\"8e35c2cd3bf6641bdb0e2050b76932cbb2e6034a0ddacc1d9bea82a6ba57f7cf\",\"d784e79ef1ad0967797f0dc5ecbc431248f7735e885b0b86104ee011ce220961\"]},\"CustomizeProduct\":{\"cd\":[],\"url\":[\"cb9470b9b15c46b361631e93219abbc30b49eb405b1982aad6fc7681688d5374\",\"5cd96c4cedb15c30c62cdd9f0c9fc7411cbf1c0e20e9c9c9b621f6deca972ef9\",\"8e35c2cd3bf6641bdb0e2050b76932cbb2e6034a0ddacc1d9bea82a6ba57f7cf\"]}}});\n",
      "fbq.loadPlugin(\"unwanteddata\");\n",
      "instance.optIn(\"1264059003707256\", \"UnwantedData\", true);\n",
      "fbq.loadPlugin(\"localcomputation\");\n",
      "instance.optIn(\"1264059003707256\", \"LocalComputation\", true);\n",
      "fbq.loadPlugin(\"iabpcmaebridge\");\n",
      "instance.optIn(\"1264059003707256\", \"IABPCMAEBridge\", true);\n",
      "fbq.loadPlugin(\"aem\");\n",
      "instance.optIn(\"1264059003707256\", \"AEM\", true);instance.configLoaded(\"1264059003707256\"); }});\n"
     ]
    }
   ],
   "source": [
    "import difflib\n",
    "\n",
    "code1 = extractConfigurationCode('temp_files/temp5.html')\n",
    "code2 = extractConfigurationCode('temp_files/temp6.html')\n",
    "\n",
    "# Split the code into lines\n",
    "code1_lines = code1.strip().splitlines()\n",
    "code2_lines = code2.strip().splitlines()\n",
    "\n",
    "# Create an instance of HtmlDiff\n",
    "html_diff = difflib.HtmlDiff(wrapcolumn=100)\n",
    "\n",
    "# Generate the HTML table with customized styling\n",
    "html_result = html_diff.make_file(\n",
    "    code1_lines, \n",
    "    code2_lines, \n",
    "    context=True,  # Show only the differences with context\n",
    "    numlines=2     # Number of context lines to show\n",
    ")\n",
    "\n",
    "# Custom HTML styling to enhance visual appeal\n",
    "custom_css = \"\"\"\n",
    "<style>\n",
    "    body {\n",
    "        font-family: Arial, sans-serif;\n",
    "        line-height: 1.6;\n",
    "        background-color: #f4f4f4;\n",
    "        margin: 0;\n",
    "        padding: 20px;\n",
    "    }\n",
    "    table.diff {\n",
    "        width: 100%;\n",
    "        border-collapse: collapse;\n",
    "        margin: 20px 0;\n",
    "        font-size: 16px;\n",
    "    }\n",
    "    table.diff th {\n",
    "        background-color: #2c3e50;\n",
    "        color: white;\n",
    "        padding: 10px;\n",
    "        text-align: left;\n",
    "    }\n",
    "    table.diff td {\n",
    "        padding: 10px;\n",
    "        vertical-align: top;\n",
    "        border-bottom: 1px solid #ddd;\n",
    "    }\n",
    "    .diff_header {\n",
    "        background-color: #34495e;\n",
    "        color: white;\n",
    "    }\n",
    "    .diff_next {\n",
    "        background-color: #f39c12;\n",
    "    }\n",
    "    .diff_add {\n",
    "        background-color: #2ecc71;\n",
    "        color: white;\n",
    "    }\n",
    "    .diff_sub {\n",
    "        background-color: #e74c3c;\n",
    "        color: white;\n",
    "    }\n",
    "    .diff_chg {\n",
    "        background-color: #3498db;\n",
    "        color: white;\n",
    "    }\n",
    "</style>\n",
    "\"\"\"\n",
    "\n",
    "# Embed the custom CSS into the HTML result\n",
    "html_result = html_result.replace(\n",
    "    '<style type=\"text/css\">', \n",
    "    '<style type=\"text/css\">' + custom_css\n",
    ")\n",
    "\n",
    "# Save the result to an HTML file\n",
    "with open('diff_successive.html', 'w') as file:\n",
    "    file.write(html_result)\n",
    "\n",
    "print(\"Differences saved to diff_successive.html\")\n",
    "\n",
    "# Collect added and deleted parts\n",
    "diff = difflib.ndiff(code1_lines, code2_lines)\n",
    "added_parts = []\n",
    "deleted_parts = []\n",
    "\n",
    "for line in diff:\n",
    "    if line.startswith('+ '):\n",
    "        added_parts.append(line[2:])\n",
    "    elif line.startswith('- '):\n",
    "        deleted_parts.append(line[2:])\n",
    "\n",
    "# Print added and deleted parts\n",
    "print(\"Added parts:\")\n",
    "print(\"\\n\".join(added_parts))\n",
    "\n",
    "print(\"\\nDeleted parts:\")\n",
    "print(\"\\n\".join(deleted_parts))\n"
   ]
  },
  {
   "cell_type": "markdown",
   "metadata": {},
   "source": [
    "## Analyzing Changes in Time (i.e. parts added and parts deleted)"
   ]
  },
  {
   "cell_type": "code",
   "execution_count": 21,
   "metadata": {},
   "outputs": [
    {
     "name": "stdout",
     "output_type": "stream",
     "text": [
      "Comparison results saved to code_comparisons.csv\n"
     ]
    }
   ],
   "source": [
    "import pandas as pd\n",
    "import difflib\n",
    "import os\n",
    "\n",
    "# Directory containing the HTML files\n",
    "folder_path = 'riteaid_archived_versions'\n",
    "\n",
    "# Get all files in the directory sorted by their timestamps\n",
    "file_list = sorted([f for f in os.listdir(folder_path) if f.endswith('.html')])\n",
    "\n",
    "# DataFrame to store the results\n",
    "columns = ['Timestamp1', 'Timestamp2', 'Code1', 'Code2', 'Added Parts', 'Deleted Parts']\n",
    "df = pd.DataFrame(columns=columns)\n",
    "\n",
    "# List to accumulate rows before creating DataFrame\n",
    "rows = []\n",
    "\n",
    "# Iterate over the files successively\n",
    "for i in range(len(file_list) - 1):\n",
    "    file1 = file_list[i]\n",
    "    file2 = file_list[i + 1]\n",
    "\n",
    "    # Get timestamps\n",
    "    timestamp1 = file1.split('.')[0]\n",
    "    timestamp2 = file2.split('.')[0]\n",
    "\n",
    "    # Extract code\n",
    "    code1 = extractConfigurationCode(os.path.join(folder_path, file1))\n",
    "    code2 = extractConfigurationCode(os.path.join(folder_path, file2))\n",
    "\n",
    "    # Split the code into lines\n",
    "    code1_lines = code1.strip().splitlines()\n",
    "    code2_lines = code2.strip().splitlines()\n",
    "\n",
    "    # Create an instance of HtmlDiff\n",
    "    html_diff = difflib.HtmlDiff(wrapcolumn=100)\n",
    "\n",
    "    # Generate the HTML table with customized styling\n",
    "    html_result = html_diff.make_file(\n",
    "        code1_lines, \n",
    "        code2_lines, \n",
    "        context=True,  # Show only the differences with context\n",
    "        numlines=2     # Number of context lines to show\n",
    "    )\n",
    "\n",
    "    # Collect added and deleted parts\n",
    "    diff = difflib.ndiff(code1_lines, code2_lines)\n",
    "    added_parts = []\n",
    "    deleted_parts = []\n",
    "\n",
    "    for line in diff:\n",
    "        if line.startswith('+ '):\n",
    "            added_parts.append(line[2:])\n",
    "        elif line.startswith('- '):\n",
    "            deleted_parts.append(line[2:])\n",
    "\n",
    "    # Store results in rows list\n",
    "    rows.append({\n",
    "        'Timestamp1': timestamp1,\n",
    "        'Timestamp2': timestamp2,\n",
    "        'Code1': code1,\n",
    "        'Code2': code2,\n",
    "        'Added Parts': '\\n'.join(added_parts),\n",
    "        'Deleted Parts': '\\n'.join(deleted_parts)\n",
    "    })\n",
    "\n",
    "# Convert list of rows to DataFrame\n",
    "df = pd.DataFrame(rows, columns=columns)\n",
    "\n",
    "# Save the DataFrame to a CSV file\n",
    "df.to_csv('code_comparisons.csv', index=False)\n",
    "\n",
    "print(\"Comparison results saved to code_comparisons.csv\")\n"
   ]
  },
  {
   "cell_type": "code",
   "execution_count": 23,
   "metadata": {},
   "outputs": [],
   "source": [
    "zamn = pd.read_csv('code_comparisons.csv')"
   ]
  }
 ],
 "metadata": {
  "kernelspec": {
   "display_name": "Python 3",
   "language": "python",
   "name": "python3"
  },
  "language_info": {
   "codemirror_mode": {
    "name": "ipython",
    "version": 3
   },
   "file_extension": ".py",
   "mimetype": "text/x-python",
   "name": "python",
   "nbconvert_exporter": "python",
   "pygments_lexer": "ipython3",
   "version": "3.11.8"
  }
 },
 "nbformat": 4,
 "nbformat_minor": 2
}
